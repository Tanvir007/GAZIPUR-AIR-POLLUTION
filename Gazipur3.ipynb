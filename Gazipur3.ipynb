{
  "cells": [
    {
      "cell_type": "markdown",
      "metadata": {
        "id": "view-in-github",
        "colab_type": "text"
      },
      "source": [
        "<a href=\"https://colab.research.google.com/github/Tanvir007/GAZIPUR-AIR-POLLUTION/blob/main/Gazipur3.ipynb\" target=\"_parent\"><img src=\"https://colab.research.google.com/assets/colab-badge.svg\" alt=\"Open In Colab\"/></a>"
      ]
    },
    {
      "cell_type": "code",
      "execution_count": null,
      "metadata": {
        "id": "lPIbFmdawvRA"
      },
      "outputs": [],
      "source": [
        "# Loading Modules\n",
        "import numpy as np # linear algebra\n",
        "import pandas as pd # data processing, CSV file I/O (e.g. pd.read_csv)\n",
        "import matplotlib.pyplot as plt\n",
        "import seaborn as sns"
      ]
    },
    {
      "cell_type": "code",
      "execution_count": null,
      "metadata": {
        "colab": {
          "base_uri": "https://localhost:8080/"
        },
        "id": "Pg4dz7KJxJCr",
        "outputId": "cbb352a9-79ad-4fc1-ca66-0384d7f3d89a"
      },
      "outputs": [
        {
          "output_type": "execute_result",
          "data": {
            "text/plain": [
              "<bound method NDFrame.head of        SO2      CO    PM25    PM10     NO   NO2\n",
              "0      NaN  0.9200   69.29  104.55  33.01  8.46\n",
              "1      NaN  0.9200   79.08   91.07  41.15  6.06\n",
              "2      NaN  0.9400   82.03   92.97  45.87  2.84\n",
              "3      NaN  0.8300   82.66   91.91  51.41  3.26\n",
              "4      NaN  0.9800   71.83   89.55  66.11  5.15\n",
              "...    ...     ...     ...     ...    ...   ...\n",
              "80347  NaN  3.4104  154.25  430.35   9.83   NaN\n",
              "80348  NaN  3.2040  151.17  395.90  11.58   NaN\n",
              "80349  NaN  3.3900  183.08  388.70  13.33   NaN\n",
              "80350  NaN  3.2880  159.19  322.41  13.74   NaN\n",
              "80351  NaN  3.2004  132.95  235.67  11.44   NaN\n",
              "\n",
              "[80352 rows x 6 columns]>"
            ]
          },
          "metadata": {},
          "execution_count": 33
        }
      ],
      "source": [
        "df = pd.read_csv('/content/drive/MyDrive/data science/Gazipur.csv')\n",
        "df.head"
      ]
    },
    {
      "cell_type": "code",
      "execution_count": null,
      "metadata": {
        "colab": {
          "base_uri": "https://localhost:8080/"
        },
        "id": "KdXwjYm-xb51",
        "outputId": "6f20f82c-9717-444a-f613-10b48dc79dff"
      },
      "outputs": [
        {
          "output_type": "execute_result",
          "data": {
            "text/plain": [
              "0        4.97\n",
              "1        4.97\n",
              "2        4.97\n",
              "3        4.97\n",
              "4        4.97\n",
              "         ... \n",
              "80347    4.97\n",
              "80348    4.97\n",
              "80349    4.97\n",
              "80350    4.97\n",
              "80351    4.97\n",
              "Name: SO2, Length: 80352, dtype: float64"
            ]
          },
          "metadata": {},
          "execution_count": 34
        }
      ],
      "source": [
        "mean1=df.SO2.median()\n",
        "df.SO2 = df.SO2.fillna(mean1)\n",
        "df.SO2"
      ]
    },
    {
      "cell_type": "code",
      "execution_count": null,
      "metadata": {
        "colab": {
          "base_uri": "https://localhost:8080/"
        },
        "id": "azCy4_EtxjHy",
        "outputId": "a2526a14-daab-4263-aeaf-99df3c9640d0"
      },
      "outputs": [
        {
          "output_type": "execute_result",
          "data": {
            "text/plain": [
              "0        0.9200\n",
              "1        0.9200\n",
              "2        0.9400\n",
              "3        0.8300\n",
              "4        0.9800\n",
              "          ...  \n",
              "80347    3.4104\n",
              "80348    3.2040\n",
              "80349    3.3900\n",
              "80350    3.2880\n",
              "80351    3.2004\n",
              "Name: CO, Length: 80352, dtype: float64"
            ]
          },
          "metadata": {},
          "execution_count": 35
        }
      ],
      "source": [
        "mean2=df.CO.median()\n",
        "df.CO = df.CO.fillna(mean2)\n",
        "df.CO"
      ]
    },
    {
      "cell_type": "code",
      "execution_count": null,
      "metadata": {
        "colab": {
          "base_uri": "https://localhost:8080/"
        },
        "id": "-tGOAHbgxveY",
        "outputId": "9fb276a9-e34d-4197-c0fe-22069da01d93"
      },
      "outputs": [
        {
          "output_type": "execute_result",
          "data": {
            "text/plain": [
              "0         69.29\n",
              "1         79.08\n",
              "2         82.03\n",
              "3         82.66\n",
              "4         71.83\n",
              "          ...  \n",
              "80347    154.25\n",
              "80348    151.17\n",
              "80349    183.08\n",
              "80350    159.19\n",
              "80351    132.95\n",
              "Name: PM25, Length: 80352, dtype: float64"
            ]
          },
          "metadata": {},
          "execution_count": 36
        }
      ],
      "source": [
        "mean3=df.PM25.median()\n",
        "df.PM25 = df.PM25.fillna(mean3)\n",
        "df.PM25"
      ]
    },
    {
      "cell_type": "code",
      "execution_count": null,
      "metadata": {
        "colab": {
          "base_uri": "https://localhost:8080/"
        },
        "id": "66csLdNXxz5X",
        "outputId": "429a9111-7ba7-4473-ab2f-b5eee808d86c"
      },
      "outputs": [
        {
          "output_type": "execute_result",
          "data": {
            "text/plain": [
              "0        104.55\n",
              "1         91.07\n",
              "2         92.97\n",
              "3         91.91\n",
              "4         89.55\n",
              "          ...  \n",
              "80347    430.35\n",
              "80348    395.90\n",
              "80349    388.70\n",
              "80350    322.41\n",
              "80351    235.67\n",
              "Name: PM10, Length: 80352, dtype: float64"
            ]
          },
          "metadata": {},
          "execution_count": 37
        }
      ],
      "source": [
        "mean4=df.PM10.median()\n",
        "df.PM10 = df.PM10.fillna(mean4)\n",
        "df.PM10"
      ]
    },
    {
      "cell_type": "code",
      "execution_count": null,
      "metadata": {
        "colab": {
          "base_uri": "https://localhost:8080/"
        },
        "id": "lvwSbFUix8FC",
        "outputId": "a435577c-fdd6-44b9-ebbf-56acc3f160bf"
      },
      "outputs": [
        {
          "output_type": "execute_result",
          "data": {
            "text/plain": [
              "0        33.01\n",
              "1        41.15\n",
              "2        45.87\n",
              "3        51.41\n",
              "4        66.11\n",
              "         ...  \n",
              "80347     9.83\n",
              "80348    11.58\n",
              "80349    13.33\n",
              "80350    13.74\n",
              "80351    11.44\n",
              "Name: NO, Length: 80352, dtype: float64"
            ]
          },
          "metadata": {},
          "execution_count": 38
        }
      ],
      "source": [
        "mean5=df.NO.median()\n",
        "df.NO = df.NO.fillna(mean5)\n",
        "df.NO"
      ]
    },
    {
      "cell_type": "code",
      "execution_count": null,
      "metadata": {
        "colab": {
          "base_uri": "https://localhost:8080/"
        },
        "id": "zejyBnZ8yJtd",
        "outputId": "ade52873-1207-45cf-a0b3-9cca80454b12"
      },
      "outputs": [
        {
          "output_type": "execute_result",
          "data": {
            "text/plain": [
              "0        8.46\n",
              "1        6.06\n",
              "2        2.84\n",
              "3        3.26\n",
              "4        5.15\n",
              "         ... \n",
              "80347    5.60\n",
              "80348    5.60\n",
              "80349    5.60\n",
              "80350    5.60\n",
              "80351    5.60\n",
              "Name: NO2, Length: 80352, dtype: float64"
            ]
          },
          "metadata": {},
          "execution_count": 39
        }
      ],
      "source": [
        "mean6=df.NO2.median()\n",
        "df.NO2 = df.NO2.fillna(mean6)\n",
        "df.NO2"
      ]
    },
    {
      "cell_type": "code",
      "execution_count": null,
      "metadata": {
        "colab": {
          "base_uri": "https://localhost:8080/"
        },
        "id": "F9wcEu-syMty",
        "outputId": "8e1472e2-caf2-455d-de8f-ccc685dcc5fc"
      },
      "outputs": [
        {
          "output_type": "execute_result",
          "data": {
            "text/plain": [
              "<bound method DataFrame.info of         SO2      CO    PM25    PM10     NO   NO2\n",
              "0      4.97  0.9200   69.29  104.55  33.01  8.46\n",
              "1      4.97  0.9200   79.08   91.07  41.15  6.06\n",
              "2      4.97  0.9400   82.03   92.97  45.87  2.84\n",
              "3      4.97  0.8300   82.66   91.91  51.41  3.26\n",
              "4      4.97  0.9800   71.83   89.55  66.11  5.15\n",
              "...     ...     ...     ...     ...    ...   ...\n",
              "80347  4.97  3.4104  154.25  430.35   9.83  5.60\n",
              "80348  4.97  3.2040  151.17  395.90  11.58  5.60\n",
              "80349  4.97  3.3900  183.08  388.70  13.33  5.60\n",
              "80350  4.97  3.2880  159.19  322.41  13.74  5.60\n",
              "80351  4.97  3.2004  132.95  235.67  11.44  5.60\n",
              "\n",
              "[80352 rows x 6 columns]>"
            ]
          },
          "metadata": {},
          "execution_count": 40
        }
      ],
      "source": [
        "df.info"
      ]
    },
    {
      "cell_type": "code",
      "execution_count": null,
      "metadata": {
        "colab": {
          "base_uri": "https://localhost:8080/",
          "height": 300
        },
        "id": "8CpgAIKwyPIZ",
        "outputId": "f084b4d4-23b6-45d0-eb01-8a539089ae04"
      },
      "outputs": [
        {
          "output_type": "execute_result",
          "data": {
            "text/plain": [
              "                SO2            CO          PM25          PM10            NO  \\\n",
              "count  80352.000000  80352.000000  80352.000000  80352.000000  80352.000000   \n",
              "mean       7.388905      1.716514     82.722985    141.892446     13.883306   \n",
              "std       10.702025      0.854576     71.113308    113.587047     25.033475   \n",
              "min        0.010000      0.010000      0.020000      0.050000      0.010000   \n",
              "25%        4.970000      1.460000     41.630000     82.000000      7.430000   \n",
              "50%        4.970000      1.620000     61.950000    115.710000      7.550000   \n",
              "75%        4.970000      1.805250     94.160000    155.710000      7.790000   \n",
              "max      277.300000     33.660000    867.730000    981.920000    398.800000   \n",
              "\n",
              "                NO2  \n",
              "count  80352.000000  \n",
              "mean       7.358908  \n",
              "std        7.640784  \n",
              "min        0.040000  \n",
              "25%        5.600000  \n",
              "50%        5.600000  \n",
              "75%        5.600000  \n",
              "max      180.150000  "
            ],
            "text/html": [
              "\n",
              "  <div id=\"df-ec7301f7-6ff1-4a33-ab53-934a8e9cc9de\">\n",
              "    <div class=\"colab-df-container\">\n",
              "      <div>\n",
              "<style scoped>\n",
              "    .dataframe tbody tr th:only-of-type {\n",
              "        vertical-align: middle;\n",
              "    }\n",
              "\n",
              "    .dataframe tbody tr th {\n",
              "        vertical-align: top;\n",
              "    }\n",
              "\n",
              "    .dataframe thead th {\n",
              "        text-align: right;\n",
              "    }\n",
              "</style>\n",
              "<table border=\"1\" class=\"dataframe\">\n",
              "  <thead>\n",
              "    <tr style=\"text-align: right;\">\n",
              "      <th></th>\n",
              "      <th>SO2</th>\n",
              "      <th>CO</th>\n",
              "      <th>PM25</th>\n",
              "      <th>PM10</th>\n",
              "      <th>NO</th>\n",
              "      <th>NO2</th>\n",
              "    </tr>\n",
              "  </thead>\n",
              "  <tbody>\n",
              "    <tr>\n",
              "      <th>count</th>\n",
              "      <td>80352.000000</td>\n",
              "      <td>80352.000000</td>\n",
              "      <td>80352.000000</td>\n",
              "      <td>80352.000000</td>\n",
              "      <td>80352.000000</td>\n",
              "      <td>80352.000000</td>\n",
              "    </tr>\n",
              "    <tr>\n",
              "      <th>mean</th>\n",
              "      <td>7.388905</td>\n",
              "      <td>1.716514</td>\n",
              "      <td>82.722985</td>\n",
              "      <td>141.892446</td>\n",
              "      <td>13.883306</td>\n",
              "      <td>7.358908</td>\n",
              "    </tr>\n",
              "    <tr>\n",
              "      <th>std</th>\n",
              "      <td>10.702025</td>\n",
              "      <td>0.854576</td>\n",
              "      <td>71.113308</td>\n",
              "      <td>113.587047</td>\n",
              "      <td>25.033475</td>\n",
              "      <td>7.640784</td>\n",
              "    </tr>\n",
              "    <tr>\n",
              "      <th>min</th>\n",
              "      <td>0.010000</td>\n",
              "      <td>0.010000</td>\n",
              "      <td>0.020000</td>\n",
              "      <td>0.050000</td>\n",
              "      <td>0.010000</td>\n",
              "      <td>0.040000</td>\n",
              "    </tr>\n",
              "    <tr>\n",
              "      <th>25%</th>\n",
              "      <td>4.970000</td>\n",
              "      <td>1.460000</td>\n",
              "      <td>41.630000</td>\n",
              "      <td>82.000000</td>\n",
              "      <td>7.430000</td>\n",
              "      <td>5.600000</td>\n",
              "    </tr>\n",
              "    <tr>\n",
              "      <th>50%</th>\n",
              "      <td>4.970000</td>\n",
              "      <td>1.620000</td>\n",
              "      <td>61.950000</td>\n",
              "      <td>115.710000</td>\n",
              "      <td>7.550000</td>\n",
              "      <td>5.600000</td>\n",
              "    </tr>\n",
              "    <tr>\n",
              "      <th>75%</th>\n",
              "      <td>4.970000</td>\n",
              "      <td>1.805250</td>\n",
              "      <td>94.160000</td>\n",
              "      <td>155.710000</td>\n",
              "      <td>7.790000</td>\n",
              "      <td>5.600000</td>\n",
              "    </tr>\n",
              "    <tr>\n",
              "      <th>max</th>\n",
              "      <td>277.300000</td>\n",
              "      <td>33.660000</td>\n",
              "      <td>867.730000</td>\n",
              "      <td>981.920000</td>\n",
              "      <td>398.800000</td>\n",
              "      <td>180.150000</td>\n",
              "    </tr>\n",
              "  </tbody>\n",
              "</table>\n",
              "</div>\n",
              "      <button class=\"colab-df-convert\" onclick=\"convertToInteractive('df-ec7301f7-6ff1-4a33-ab53-934a8e9cc9de')\"\n",
              "              title=\"Convert this dataframe to an interactive table.\"\n",
              "              style=\"display:none;\">\n",
              "        \n",
              "  <svg xmlns=\"http://www.w3.org/2000/svg\" height=\"24px\"viewBox=\"0 0 24 24\"\n",
              "       width=\"24px\">\n",
              "    <path d=\"M0 0h24v24H0V0z\" fill=\"none\"/>\n",
              "    <path d=\"M18.56 5.44l.94 2.06.94-2.06 2.06-.94-2.06-.94-.94-2.06-.94 2.06-2.06.94zm-11 1L8.5 8.5l.94-2.06 2.06-.94-2.06-.94L8.5 2.5l-.94 2.06-2.06.94zm10 10l.94 2.06.94-2.06 2.06-.94-2.06-.94-.94-2.06-.94 2.06-2.06.94z\"/><path d=\"M17.41 7.96l-1.37-1.37c-.4-.4-.92-.59-1.43-.59-.52 0-1.04.2-1.43.59L10.3 9.45l-7.72 7.72c-.78.78-.78 2.05 0 2.83L4 21.41c.39.39.9.59 1.41.59.51 0 1.02-.2 1.41-.59l7.78-7.78 2.81-2.81c.8-.78.8-2.07 0-2.86zM5.41 20L4 18.59l7.72-7.72 1.47 1.35L5.41 20z\"/>\n",
              "  </svg>\n",
              "      </button>\n",
              "      \n",
              "  <style>\n",
              "    .colab-df-container {\n",
              "      display:flex;\n",
              "      flex-wrap:wrap;\n",
              "      gap: 12px;\n",
              "    }\n",
              "\n",
              "    .colab-df-convert {\n",
              "      background-color: #E8F0FE;\n",
              "      border: none;\n",
              "      border-radius: 50%;\n",
              "      cursor: pointer;\n",
              "      display: none;\n",
              "      fill: #1967D2;\n",
              "      height: 32px;\n",
              "      padding: 0 0 0 0;\n",
              "      width: 32px;\n",
              "    }\n",
              "\n",
              "    .colab-df-convert:hover {\n",
              "      background-color: #E2EBFA;\n",
              "      box-shadow: 0px 1px 2px rgba(60, 64, 67, 0.3), 0px 1px 3px 1px rgba(60, 64, 67, 0.15);\n",
              "      fill: #174EA6;\n",
              "    }\n",
              "\n",
              "    [theme=dark] .colab-df-convert {\n",
              "      background-color: #3B4455;\n",
              "      fill: #D2E3FC;\n",
              "    }\n",
              "\n",
              "    [theme=dark] .colab-df-convert:hover {\n",
              "      background-color: #434B5C;\n",
              "      box-shadow: 0px 1px 3px 1px rgba(0, 0, 0, 0.15);\n",
              "      filter: drop-shadow(0px 1px 2px rgba(0, 0, 0, 0.3));\n",
              "      fill: #FFFFFF;\n",
              "    }\n",
              "  </style>\n",
              "\n",
              "      <script>\n",
              "        const buttonEl =\n",
              "          document.querySelector('#df-ec7301f7-6ff1-4a33-ab53-934a8e9cc9de button.colab-df-convert');\n",
              "        buttonEl.style.display =\n",
              "          google.colab.kernel.accessAllowed ? 'block' : 'none';\n",
              "\n",
              "        async function convertToInteractive(key) {\n",
              "          const element = document.querySelector('#df-ec7301f7-6ff1-4a33-ab53-934a8e9cc9de');\n",
              "          const dataTable =\n",
              "            await google.colab.kernel.invokeFunction('convertToInteractive',\n",
              "                                                     [key], {});\n",
              "          if (!dataTable) return;\n",
              "\n",
              "          const docLinkHtml = 'Like what you see? Visit the ' +\n",
              "            '<a target=\"_blank\" href=https://colab.research.google.com/notebooks/data_table.ipynb>data table notebook</a>'\n",
              "            + ' to learn more about interactive tables.';\n",
              "          element.innerHTML = '';\n",
              "          dataTable['output_type'] = 'display_data';\n",
              "          await google.colab.output.renderOutput(dataTable, element);\n",
              "          const docLink = document.createElement('div');\n",
              "          docLink.innerHTML = docLinkHtml;\n",
              "          element.appendChild(docLink);\n",
              "        }\n",
              "      </script>\n",
              "    </div>\n",
              "  </div>\n",
              "  "
            ]
          },
          "metadata": {},
          "execution_count": 41
        }
      ],
      "source": [
        "df.describe()"
      ]
    },
    {
      "cell_type": "code",
      "execution_count": null,
      "metadata": {
        "colab": {
          "base_uri": "https://localhost:8080/",
          "height": 237
        },
        "id": "vRxHAoOXySzW",
        "outputId": "1caa7fe1-f64b-4441-ad68-6483fabdd8e7"
      },
      "outputs": [
        {
          "output_type": "execute_result",
          "data": {
            "text/plain": [
              "           SO2        CO      PM25      PM10        NO       NO2\n",
              "SO2   1.000000  0.013801  0.099782  0.086182  0.045268 -0.021887\n",
              "CO    0.013801  1.000000  0.364765  0.358919  0.281767  0.204714\n",
              "PM25  0.099782  0.364765  1.000000  0.831123  0.276718  0.346251\n",
              "PM10  0.086182  0.358919  0.831123  1.000000  0.260183  0.365514\n",
              "NO    0.045268  0.281767  0.276718  0.260183  1.000000  0.333323\n",
              "NO2  -0.021887  0.204714  0.346251  0.365514  0.333323  1.000000"
            ],
            "text/html": [
              "\n",
              "  <div id=\"df-cfcf8e2c-07ba-4e4e-b2c4-77bddbb151fc\">\n",
              "    <div class=\"colab-df-container\">\n",
              "      <div>\n",
              "<style scoped>\n",
              "    .dataframe tbody tr th:only-of-type {\n",
              "        vertical-align: middle;\n",
              "    }\n",
              "\n",
              "    .dataframe tbody tr th {\n",
              "        vertical-align: top;\n",
              "    }\n",
              "\n",
              "    .dataframe thead th {\n",
              "        text-align: right;\n",
              "    }\n",
              "</style>\n",
              "<table border=\"1\" class=\"dataframe\">\n",
              "  <thead>\n",
              "    <tr style=\"text-align: right;\">\n",
              "      <th></th>\n",
              "      <th>SO2</th>\n",
              "      <th>CO</th>\n",
              "      <th>PM25</th>\n",
              "      <th>PM10</th>\n",
              "      <th>NO</th>\n",
              "      <th>NO2</th>\n",
              "    </tr>\n",
              "  </thead>\n",
              "  <tbody>\n",
              "    <tr>\n",
              "      <th>SO2</th>\n",
              "      <td>1.000000</td>\n",
              "      <td>0.013801</td>\n",
              "      <td>0.099782</td>\n",
              "      <td>0.086182</td>\n",
              "      <td>0.045268</td>\n",
              "      <td>-0.021887</td>\n",
              "    </tr>\n",
              "    <tr>\n",
              "      <th>CO</th>\n",
              "      <td>0.013801</td>\n",
              "      <td>1.000000</td>\n",
              "      <td>0.364765</td>\n",
              "      <td>0.358919</td>\n",
              "      <td>0.281767</td>\n",
              "      <td>0.204714</td>\n",
              "    </tr>\n",
              "    <tr>\n",
              "      <th>PM25</th>\n",
              "      <td>0.099782</td>\n",
              "      <td>0.364765</td>\n",
              "      <td>1.000000</td>\n",
              "      <td>0.831123</td>\n",
              "      <td>0.276718</td>\n",
              "      <td>0.346251</td>\n",
              "    </tr>\n",
              "    <tr>\n",
              "      <th>PM10</th>\n",
              "      <td>0.086182</td>\n",
              "      <td>0.358919</td>\n",
              "      <td>0.831123</td>\n",
              "      <td>1.000000</td>\n",
              "      <td>0.260183</td>\n",
              "      <td>0.365514</td>\n",
              "    </tr>\n",
              "    <tr>\n",
              "      <th>NO</th>\n",
              "      <td>0.045268</td>\n",
              "      <td>0.281767</td>\n",
              "      <td>0.276718</td>\n",
              "      <td>0.260183</td>\n",
              "      <td>1.000000</td>\n",
              "      <td>0.333323</td>\n",
              "    </tr>\n",
              "    <tr>\n",
              "      <th>NO2</th>\n",
              "      <td>-0.021887</td>\n",
              "      <td>0.204714</td>\n",
              "      <td>0.346251</td>\n",
              "      <td>0.365514</td>\n",
              "      <td>0.333323</td>\n",
              "      <td>1.000000</td>\n",
              "    </tr>\n",
              "  </tbody>\n",
              "</table>\n",
              "</div>\n",
              "      <button class=\"colab-df-convert\" onclick=\"convertToInteractive('df-cfcf8e2c-07ba-4e4e-b2c4-77bddbb151fc')\"\n",
              "              title=\"Convert this dataframe to an interactive table.\"\n",
              "              style=\"display:none;\">\n",
              "        \n",
              "  <svg xmlns=\"http://www.w3.org/2000/svg\" height=\"24px\"viewBox=\"0 0 24 24\"\n",
              "       width=\"24px\">\n",
              "    <path d=\"M0 0h24v24H0V0z\" fill=\"none\"/>\n",
              "    <path d=\"M18.56 5.44l.94 2.06.94-2.06 2.06-.94-2.06-.94-.94-2.06-.94 2.06-2.06.94zm-11 1L8.5 8.5l.94-2.06 2.06-.94-2.06-.94L8.5 2.5l-.94 2.06-2.06.94zm10 10l.94 2.06.94-2.06 2.06-.94-2.06-.94-.94-2.06-.94 2.06-2.06.94z\"/><path d=\"M17.41 7.96l-1.37-1.37c-.4-.4-.92-.59-1.43-.59-.52 0-1.04.2-1.43.59L10.3 9.45l-7.72 7.72c-.78.78-.78 2.05 0 2.83L4 21.41c.39.39.9.59 1.41.59.51 0 1.02-.2 1.41-.59l7.78-7.78 2.81-2.81c.8-.78.8-2.07 0-2.86zM5.41 20L4 18.59l7.72-7.72 1.47 1.35L5.41 20z\"/>\n",
              "  </svg>\n",
              "      </button>\n",
              "      \n",
              "  <style>\n",
              "    .colab-df-container {\n",
              "      display:flex;\n",
              "      flex-wrap:wrap;\n",
              "      gap: 12px;\n",
              "    }\n",
              "\n",
              "    .colab-df-convert {\n",
              "      background-color: #E8F0FE;\n",
              "      border: none;\n",
              "      border-radius: 50%;\n",
              "      cursor: pointer;\n",
              "      display: none;\n",
              "      fill: #1967D2;\n",
              "      height: 32px;\n",
              "      padding: 0 0 0 0;\n",
              "      width: 32px;\n",
              "    }\n",
              "\n",
              "    .colab-df-convert:hover {\n",
              "      background-color: #E2EBFA;\n",
              "      box-shadow: 0px 1px 2px rgba(60, 64, 67, 0.3), 0px 1px 3px 1px rgba(60, 64, 67, 0.15);\n",
              "      fill: #174EA6;\n",
              "    }\n",
              "\n",
              "    [theme=dark] .colab-df-convert {\n",
              "      background-color: #3B4455;\n",
              "      fill: #D2E3FC;\n",
              "    }\n",
              "\n",
              "    [theme=dark] .colab-df-convert:hover {\n",
              "      background-color: #434B5C;\n",
              "      box-shadow: 0px 1px 3px 1px rgba(0, 0, 0, 0.15);\n",
              "      filter: drop-shadow(0px 1px 2px rgba(0, 0, 0, 0.3));\n",
              "      fill: #FFFFFF;\n",
              "    }\n",
              "  </style>\n",
              "\n",
              "      <script>\n",
              "        const buttonEl =\n",
              "          document.querySelector('#df-cfcf8e2c-07ba-4e4e-b2c4-77bddbb151fc button.colab-df-convert');\n",
              "        buttonEl.style.display =\n",
              "          google.colab.kernel.accessAllowed ? 'block' : 'none';\n",
              "\n",
              "        async function convertToInteractive(key) {\n",
              "          const element = document.querySelector('#df-cfcf8e2c-07ba-4e4e-b2c4-77bddbb151fc');\n",
              "          const dataTable =\n",
              "            await google.colab.kernel.invokeFunction('convertToInteractive',\n",
              "                                                     [key], {});\n",
              "          if (!dataTable) return;\n",
              "\n",
              "          const docLinkHtml = 'Like what you see? Visit the ' +\n",
              "            '<a target=\"_blank\" href=https://colab.research.google.com/notebooks/data_table.ipynb>data table notebook</a>'\n",
              "            + ' to learn more about interactive tables.';\n",
              "          element.innerHTML = '';\n",
              "          dataTable['output_type'] = 'display_data';\n",
              "          await google.colab.output.renderOutput(dataTable, element);\n",
              "          const docLink = document.createElement('div');\n",
              "          docLink.innerHTML = docLinkHtml;\n",
              "          element.appendChild(docLink);\n",
              "        }\n",
              "      </script>\n",
              "    </div>\n",
              "  </div>\n",
              "  "
            ]
          },
          "metadata": {},
          "execution_count": 42
        }
      ],
      "source": [
        "df.corr()"
      ]
    },
    {
      "cell_type": "code",
      "execution_count": null,
      "metadata": {
        "colab": {
          "base_uri": "https://localhost:8080/",
          "height": 287
        },
        "id": "OAS3rDBpyVaY",
        "outputId": "40d6030c-135e-4e74-97df-859ffc8f4b8f"
      },
      "outputs": [
        {
          "output_type": "execute_result",
          "data": {
            "text/plain": [
              "<matplotlib.axes._subplots.AxesSubplot at 0x7f5589331b50>"
            ]
          },
          "metadata": {},
          "execution_count": 43
        },
        {
          "output_type": "display_data",
          "data": {
            "text/plain": [
              "<Figure size 432x288 with 2 Axes>"
            ],
            "image/png": "[encoded data removed]"
          },
          "metadata": {
            "needs_background": "light"
          }
        }
      ],
      "source": [
        "sns.heatmap(df.corr(),annot=True)"
      ]
    },
    {
      "cell_type": "code",
      "execution_count": null,
      "metadata": {
        "id": "F7EaundEyXxu"
      },
      "outputs": [],
      "source": [
        "x = df.drop(['PM25'],axis = 1)"
      ]
    },
    {
      "cell_type": "code",
      "execution_count": null,
      "metadata": {
        "colab": {
          "base_uri": "https://localhost:8080/",
          "height": 423
        },
        "id": "o1BHKlNhya9u",
        "outputId": "fd6bf90c-1d5f-4cc7-b0e0-a5d775edb25e"
      },
      "outputs": [
        {
          "output_type": "execute_result",
          "data": {
            "text/plain": [
              "        SO2      CO    PM10     NO   NO2\n",
              "0      4.97  0.9200  104.55  33.01  8.46\n",
              "1      4.97  0.9200   91.07  41.15  6.06\n",
              "2      4.97  0.9400   92.97  45.87  2.84\n",
              "3      4.97  0.8300   91.91  51.41  3.26\n",
              "4      4.97  0.9800   89.55  66.11  5.15\n",
              "...     ...     ...     ...    ...   ...\n",
              "80347  4.97  3.4104  430.35   9.83  5.60\n",
              "80348  4.97  3.2040  395.90  11.58  5.60\n",
              "80349  4.97  3.3900  388.70  13.33  5.60\n",
              "80350  4.97  3.2880  322.41  13.74  5.60\n",
              "80351  4.97  3.2004  235.67  11.44  5.60\n",
              "\n",
              "[80352 rows x 5 columns]"
            ],
            "text/html": [
              "\n",
              "  <div id=\"df-c74765ef-995c-40e4-a1a0-b7f682aa9cf6\">\n",
              "    <div class=\"colab-df-container\">\n",
              "      <div>\n",
              "<style scoped>\n",
              "    .dataframe tbody tr th:only-of-type {\n",
              "        vertical-align: middle;\n",
              "    }\n",
              "\n",
              "    .dataframe tbody tr th {\n",
              "        vertical-align: top;\n",
              "    }\n",
              "\n",
              "    .dataframe thead th {\n",
              "        text-align: right;\n",
              "    }\n",
              "</style>\n",
              "<table border=\"1\" class=\"dataframe\">\n",
              "  <thead>\n",
              "    <tr style=\"text-align: right;\">\n",
              "      <th></th>\n",
              "      <th>SO2</th>\n",
              "      <th>CO</th>\n",
              "      <th>PM10</th>\n",
              "      <th>NO</th>\n",
              "      <th>NO2</th>\n",
              "    </tr>\n",
              "  </thead>\n",
              "  <tbody>\n",
              "    <tr>\n",
              "      <th>0</th>\n",
              "      <td>4.97</td>\n",
              "      <td>0.9200</td>\n",
              "      <td>104.55</td>\n",
              "      <td>33.01</td>\n",
              "      <td>8.46</td>\n",
              "    </tr>\n",
              "    <tr>\n",
              "      <th>1</th>\n",
              "      <td>4.97</td>\n",
              "      <td>0.9200</td>\n",
              "      <td>91.07</td>\n",
              "      <td>41.15</td>\n",
              "      <td>6.06</td>\n",
              "    </tr>\n",
              "    <tr>\n",
              "      <th>2</th>\n",
              "      <td>4.97</td>\n",
              "      <td>0.9400</td>\n",
              "      <td>92.97</td>\n",
              "      <td>45.87</td>\n",
              "      <td>2.84</td>\n",
              "    </tr>\n",
              "    <tr>\n",
              "      <th>3</th>\n",
              "      <td>4.97</td>\n",
              "      <td>0.8300</td>\n",
              "      <td>91.91</td>\n",
              "      <td>51.41</td>\n",
              "      <td>3.26</td>\n",
              "    </tr>\n",
              "    <tr>\n",
              "      <th>4</th>\n",
              "      <td>4.97</td>\n",
              "      <td>0.9800</td>\n",
              "      <td>89.55</td>\n",
              "      <td>66.11</td>\n",
              "      <td>5.15</td>\n",
              "    </tr>\n",
              "    <tr>\n",
              "      <th>...</th>\n",
              "      <td>...</td>\n",
              "      <td>...</td>\n",
              "      <td>...</td>\n",
              "      <td>...</td>\n",
              "      <td>...</td>\n",
              "    </tr>\n",
              "    <tr>\n",
              "      <th>80347</th>\n",
              "      <td>4.97</td>\n",
              "      <td>3.4104</td>\n",
              "      <td>430.35</td>\n",
              "      <td>9.83</td>\n",
              "      <td>5.60</td>\n",
              "    </tr>\n",
              "    <tr>\n",
              "      <th>80348</th>\n",
              "      <td>4.97</td>\n",
              "      <td>3.2040</td>\n",
              "      <td>395.90</td>\n",
              "      <td>11.58</td>\n",
              "      <td>5.60</td>\n",
              "    </tr>\n",
              "    <tr>\n",
              "      <th>80349</th>\n",
              "      <td>4.97</td>\n",
              "      <td>3.3900</td>\n",
              "      <td>388.70</td>\n",
              "      <td>13.33</td>\n",
              "      <td>5.60</td>\n",
              "    </tr>\n",
              "    <tr>\n",
              "      <th>80350</th>\n",
              "      <td>4.97</td>\n",
              "      <td>3.2880</td>\n",
              "      <td>322.41</td>\n",
              "      <td>13.74</td>\n",
              "      <td>5.60</td>\n",
              "    </tr>\n",
              "    <tr>\n",
              "      <th>80351</th>\n",
              "      <td>4.97</td>\n",
              "      <td>3.2004</td>\n",
              "      <td>235.67</td>\n",
              "      <td>11.44</td>\n",
              "      <td>5.60</td>\n",
              "    </tr>\n",
              "  </tbody>\n",
              "</table>\n",
              "<p>80352 rows × 5 columns</p>\n",
              "</div>\n",
              "      <button class=\"colab-df-convert\" onclick=\"convertToInteractive('df-c74765ef-995c-40e4-a1a0-b7f682aa9cf6')\"\n",
              "              title=\"Convert this dataframe to an interactive table.\"\n",
              "              style=\"display:none;\">\n",
              "        \n",
              "  <svg xmlns=\"http://www.w3.org/2000/svg\" height=\"24px\"viewBox=\"0 0 24 24\"\n",
              "       width=\"24px\">\n",
              "    <path d=\"M0 0h24v24H0V0z\" fill=\"none\"/>\n",
              "    <path d=\"M18.56 5.44l.94 2.06.94-2.06 2.06-.94-2.06-.94-.94-2.06-.94 2.06-2.06.94zm-11 1L8.5 8.5l.94-2.06 2.06-.94-2.06-.94L8.5 2.5l-.94 2.06-2.06.94zm10 10l.94 2.06.94-2.06 2.06-.94-2.06-.94-.94-2.06-.94 2.06-2.06.94z\"/><path d=\"M17.41 7.96l-1.37-1.37c-.4-.4-.92-.59-1.43-.59-.52 0-1.04.2-1.43.59L10.3 9.45l-7.72 7.72c-.78.78-.78 2.05 0 2.83L4 21.41c.39.39.9.59 1.41.59.51 0 1.02-.2 1.41-.59l7.78-7.78 2.81-2.81c.8-.78.8-2.07 0-2.86zM5.41 20L4 18.59l7.72-7.72 1.47 1.35L5.41 20z\"/>\n",
              "  </svg>\n",
              "      </button>\n",
              "      \n",
              "  <style>\n",
              "    .colab-df-container {\n",
              "      display:flex;\n",
              "      flex-wrap:wrap;\n",
              "      gap: 12px;\n",
              "    }\n",
              "\n",
              "    .colab-df-convert {\n",
              "      background-color: #E8F0FE;\n",
              "      border: none;\n",
              "      border-radius: 50%;\n",
              "      cursor: pointer;\n",
              "      display: none;\n",
              "      fill: #1967D2;\n",
              "      height: 32px;\n",
              "      padding: 0 0 0 0;\n",
              "      width: 32px;\n",
              "    }\n",
              "\n",
              "    .colab-df-convert:hover {\n",
              "      background-color: #E2EBFA;\n",
              "      box-shadow: 0px 1px 2px rgba(60, 64, 67, 0.3), 0px 1px 3px 1px rgba(60, 64, 67, 0.15);\n",
              "      fill: #174EA6;\n",
              "    }\n",
              "\n",
              "    [theme=dark] .colab-df-convert {\n",
              "      background-color: #3B4455;\n",
              "      fill: #D2E3FC;\n",
              "    }\n",
              "\n",
              "    [theme=dark] .colab-df-convert:hover {\n",
              "      background-color: #434B5C;\n",
              "      box-shadow: 0px 1px 3px 1px rgba(0, 0, 0, 0.15);\n",
              "      filter: drop-shadow(0px 1px 2px rgba(0, 0, 0, 0.3));\n",
              "      fill: #FFFFFF;\n",
              "    }\n",
              "  </style>\n",
              "\n",
              "      <script>\n",
              "        const buttonEl =\n",
              "          document.querySelector('#df-c74765ef-995c-40e4-a1a0-b7f682aa9cf6 button.colab-df-convert');\n",
              "        buttonEl.style.display =\n",
              "          google.colab.kernel.accessAllowed ? 'block' : 'none';\n",
              "\n",
              "        async function convertToInteractive(key) {\n",
              "          const element = document.querySelector('#df-c74765ef-995c-40e4-a1a0-b7f682aa9cf6');\n",
              "          const dataTable =\n",
              "            await google.colab.kernel.invokeFunction('convertToInteractive',\n",
              "                                                     [key], {});\n",
              "          if (!dataTable) return;\n",
              "\n",
              "          const docLinkHtml = 'Like what you see? Visit the ' +\n",
              "            '<a target=\"_blank\" href=https://colab.research.google.com/notebooks/data_table.ipynb>data table notebook</a>'\n",
              "            + ' to learn more about interactive tables.';\n",
              "          element.innerHTML = '';\n",
              "          dataTable['output_type'] = 'display_data';\n",
              "          await google.colab.output.renderOutput(dataTable, element);\n",
              "          const docLink = document.createElement('div');\n",
              "          docLink.innerHTML = docLinkHtml;\n",
              "          element.appendChild(docLink);\n",
              "        }\n",
              "      </script>\n",
              "    </div>\n",
              "  </div>\n",
              "  "
            ]
          },
          "metadata": {},
          "execution_count": 45
        }
      ],
      "source": [
        "x"
      ]
    },
    {
      "cell_type": "code",
      "execution_count": null,
      "metadata": {
        "id": "fzN9zVOVybmR"
      },
      "outputs": [],
      "source": [
        "y = df.PM25"
      ]
    },
    {
      "cell_type": "code",
      "execution_count": null,
      "metadata": {
        "colab": {
          "base_uri": "https://localhost:8080/"
        },
        "id": "mdGiHfvXydoV",
        "outputId": "cb5969f1-3170-4ee8-eaae-89169562ee18"
      },
      "outputs": [
        {
          "output_type": "execute_result",
          "data": {
            "text/plain": [
              "0         69.29\n",
              "1         79.08\n",
              "2         82.03\n",
              "3         82.66\n",
              "4         71.83\n",
              "          ...  \n",
              "80347    154.25\n",
              "80348    151.17\n",
              "80349    183.08\n",
              "80350    159.19\n",
              "80351    132.95\n",
              "Name: PM25, Length: 80352, dtype: float64"
            ]
          },
          "metadata": {},
          "execution_count": 47
        }
      ],
      "source": [
        "y"
      ]
    },
    {
      "cell_type": "code",
      "execution_count": null,
      "metadata": {
        "id": "N8EcwSJQzgc3"
      },
      "outputs": [],
      "source": [
        "#import library\n",
        "from sklearn.model_selection import train_test_split\n",
        "xtrain,xtest,ytrain,ytest = train_test_split(x,y,test_size = .30,random_state = 1)"
      ]
    },
    {
      "cell_type": "code",
      "execution_count": null,
      "metadata": {
        "id": "r_P95_5Dye6j"
      },
      "outputs": [],
      "source": [
        "\n",
        "# Fitting Random Forest Regression to the dataset\n",
        "# import the regressor\n",
        "from sklearn.ensemble import RandomForestRegressor"
      ]
    },
    {
      "cell_type": "code",
      "execution_count": null,
      "metadata": {
        "id": "Il9-QT-fykGJ"
      },
      "outputs": [],
      "source": [
        "# create regressor object\n",
        "model = RandomForestRegressor(n_estimators = 1000, random_state = 42)"
      ]
    },
    {
      "cell_type": "code",
      "execution_count": null,
      "metadata": {
        "colab": {
          "base_uri": "https://localhost:8080/"
        },
        "id": "tuats2jjypBH",
        "outputId": "32a1e526-30bc-486a-d7ea-2ba9aebb81cc"
      },
      "outputs": [
        {
          "output_type": "execute_result",
          "data": {
            "text/plain": [
              "RandomForestRegressor(n_estimators=1000, random_state=42)"
            ]
          },
          "metadata": {},
          "execution_count": 51
        }
      ],
      "source": [
        "# fit the regressor with x and y data\n",
        "model.fit(xtrain, ytrain)  "
      ]
    },
    {
      "cell_type": "code",
      "execution_count": null,
      "metadata": {
        "id": "Z7vwEEt5yrSD"
      },
      "outputs": [],
      "source": [
        "ypred = model.predict(xtest)"
      ]
    },
    {
      "cell_type": "code",
      "execution_count": null,
      "metadata": {
        "colab": {
          "base_uri": "https://localhost:8080/"
        },
        "id": "JKIy3KaJzFkJ",
        "outputId": "1143e759-311f-473a-b920-2a5877af12fe"
      },
      "outputs": [
        {
          "output_type": "execute_result",
          "data": {
            "text/plain": [
              "array([ 60.10812582, 159.56789   , 100.55616   , ...,  77.53234   ,\n",
              "        25.68832   ,  44.77829   ])"
            ]
          },
          "metadata": {},
          "execution_count": 53
        }
      ],
      "source": [
        "ypred"
      ]
    },
    {
      "cell_type": "code",
      "execution_count": null,
      "metadata": {
        "colab": {
          "base_uri": "https://localhost:8080/"
        },
        "id": "OX7dpmOb1fCN",
        "outputId": "2f83a4be-ba81-46b3-9065-69cb4d511836"
      },
      "outputs": [
        {
          "output_type": "execute_result",
          "data": {
            "text/plain": [
              "66230     61.95\n",
              "18061    169.75\n",
              "12878     39.70\n",
              "61502     61.95\n",
              "34496     61.95\n",
              "          ...  \n",
              "77856     16.83\n",
              "32810     13.21\n",
              "20497    108.11\n",
              "16559     22.32\n",
              "15567     18.00\n",
              "Name: PM25, Length: 24106, dtype: float64"
            ]
          },
          "metadata": {},
          "execution_count": 54
        }
      ],
      "source": [
        "ytest"
      ]
    },
    {
      "cell_type": "code",
      "execution_count": null,
      "metadata": {
        "colab": {
          "base_uri": "https://localhost:8080/",
          "height": 423
        },
        "id": "QIrZdsCG1i_r",
        "outputId": "43db81e8-e8bf-4750-9944-2f3f42f94955"
      },
      "outputs": [
        {
          "output_type": "execute_result",
          "data": {
            "text/plain": [
              "         SO2     CO    PM10    NO  NO2\n",
              "66230   4.97  1.620  115.71  7.55  5.6\n",
              "18061   4.97  1.120  249.50  0.32  1.9\n",
              "12878   3.92  1.450  150.66  1.83  5.6\n",
              "61502   4.97  1.620  115.71  7.55  5.6\n",
              "34496   4.97  1.620  115.71  7.55  5.6\n",
              "...      ...    ...     ...   ...  ...\n",
              "77856   4.97  2.814  115.71  7.55  5.6\n",
              "32810   4.97  0.780   31.59  7.55  5.6\n",
              "20497  16.96  1.500  139.94  2.84  0.2\n",
              "16559   4.97  0.720   43.18  7.55  5.6\n",
              "15567   4.97  0.260   66.00  7.55  5.6\n",
              "\n",
              "[24106 rows x 5 columns]"
            ],
            "text/html": [
              "\n",
              "  <div id=\"df-9faf2ccd-31d0-43cd-9cbd-165ae44ae322\">\n",
              "    <div class=\"colab-df-container\">\n",
              "      <div>\n",
              "<style scoped>\n",
              "    .dataframe tbody tr th:only-of-type {\n",
              "        vertical-align: middle;\n",
              "    }\n",
              "\n",
              "    .dataframe tbody tr th {\n",
              "        vertical-align: top;\n",
              "    }\n",
              "\n",
              "    .dataframe thead th {\n",
              "        text-align: right;\n",
              "    }\n",
              "</style>\n",
              "<table border=\"1\" class=\"dataframe\">\n",
              "  <thead>\n",
              "    <tr style=\"text-align: right;\">\n",
              "      <th></th>\n",
              "      <th>SO2</th>\n",
              "      <th>CO</th>\n",
              "      <th>PM10</th>\n",
              "      <th>NO</th>\n",
              "      <th>NO2</th>\n",
              "    </tr>\n",
              "  </thead>\n",
              "  <tbody>\n",
              "    <tr>\n",
              "      <th>66230</th>\n",
              "      <td>4.97</td>\n",
              "      <td>1.620</td>\n",
              "      <td>115.71</td>\n",
              "      <td>7.55</td>\n",
              "      <td>5.6</td>\n",
              "    </tr>\n",
              "    <tr>\n",
              "      <th>18061</th>\n",
              "      <td>4.97</td>\n",
              "      <td>1.120</td>\n",
              "      <td>249.50</td>\n",
              "      <td>0.32</td>\n",
              "      <td>1.9</td>\n",
              "    </tr>\n",
              "    <tr>\n",
              "      <th>12878</th>\n",
              "      <td>3.92</td>\n",
              "      <td>1.450</td>\n",
              "      <td>150.66</td>\n",
              "      <td>1.83</td>\n",
              "      <td>5.6</td>\n",
              "    </tr>\n",
              "    <tr>\n",
              "      <th>61502</th>\n",
              "      <td>4.97</td>\n",
              "      <td>1.620</td>\n",
              "      <td>115.71</td>\n",
              "      <td>7.55</td>\n",
              "      <td>5.6</td>\n",
              "    </tr>\n",
              "    <tr>\n",
              "      <th>34496</th>\n",
              "      <td>4.97</td>\n",
              "      <td>1.620</td>\n",
              "      <td>115.71</td>\n",
              "      <td>7.55</td>\n",
              "      <td>5.6</td>\n",
              "    </tr>\n",
              "    <tr>\n",
              "      <th>...</th>\n",
              "      <td>...</td>\n",
              "      <td>...</td>\n",
              "      <td>...</td>\n",
              "      <td>...</td>\n",
              "      <td>...</td>\n",
              "    </tr>\n",
              "    <tr>\n",
              "      <th>77856</th>\n",
              "      <td>4.97</td>\n",
              "      <td>2.814</td>\n",
              "      <td>115.71</td>\n",
              "      <td>7.55</td>\n",
              "      <td>5.6</td>\n",
              "    </tr>\n",
              "    <tr>\n",
              "      <th>32810</th>\n",
              "      <td>4.97</td>\n",
              "      <td>0.780</td>\n",
              "      <td>31.59</td>\n",
              "      <td>7.55</td>\n",
              "      <td>5.6</td>\n",
              "    </tr>\n",
              "    <tr>\n",
              "      <th>20497</th>\n",
              "      <td>16.96</td>\n",
              "      <td>1.500</td>\n",
              "      <td>139.94</td>\n",
              "      <td>2.84</td>\n",
              "      <td>0.2</td>\n",
              "    </tr>\n",
              "    <tr>\n",
              "      <th>16559</th>\n",
              "      <td>4.97</td>\n",
              "      <td>0.720</td>\n",
              "      <td>43.18</td>\n",
              "      <td>7.55</td>\n",
              "      <td>5.6</td>\n",
              "    </tr>\n",
              "    <tr>\n",
              "      <th>15567</th>\n",
              "      <td>4.97</td>\n",
              "      <td>0.260</td>\n",
              "      <td>66.00</td>\n",
              "      <td>7.55</td>\n",
              "      <td>5.6</td>\n",
              "    </tr>\n",
              "  </tbody>\n",
              "</table>\n",
              "<p>24106 rows × 5 columns</p>\n",
              "</div>\n",
              "      <button class=\"colab-df-convert\" onclick=\"convertToInteractive('df-9faf2ccd-31d0-43cd-9cbd-165ae44ae322')\"\n",
              "              title=\"Convert this dataframe to an interactive table.\"\n",
              "              style=\"display:none;\">\n",
              "        \n",
              "  <svg xmlns=\"http://www.w3.org/2000/svg\" height=\"24px\"viewBox=\"0 0 24 24\"\n",
              "       width=\"24px\">\n",
              "    <path d=\"M0 0h24v24H0V0z\" fill=\"none\"/>\n",
              "    <path d=\"M18.56 5.44l.94 2.06.94-2.06 2.06-.94-2.06-.94-.94-2.06-.94 2.06-2.06.94zm-11 1L8.5 8.5l.94-2.06 2.06-.94-2.06-.94L8.5 2.5l-.94 2.06-2.06.94zm10 10l.94 2.06.94-2.06 2.06-.94-2.06-.94-.94-2.06-.94 2.06-2.06.94z\"/><path d=\"M17.41 7.96l-1.37-1.37c-.4-.4-.92-.59-1.43-.59-.52 0-1.04.2-1.43.59L10.3 9.45l-7.72 7.72c-.78.78-.78 2.05 0 2.83L4 21.41c.39.39.9.59 1.41.59.51 0 1.02-.2 1.41-.59l7.78-7.78 2.81-2.81c.8-.78.8-2.07 0-2.86zM5.41 20L4 18.59l7.72-7.72 1.47 1.35L5.41 20z\"/>\n",
              "  </svg>\n",
              "      </button>\n",
              "      \n",
              "  <style>\n",
              "    .colab-df-container {\n",
              "      display:flex;\n",
              "      flex-wrap:wrap;\n",
              "      gap: 12px;\n",
              "    }\n",
              "\n",
              "    .colab-df-convert {\n",
              "      background-color: #E8F0FE;\n",
              "      border: none;\n",
              "      border-radius: 50%;\n",
              "      cursor: pointer;\n",
              "      display: none;\n",
              "      fill: #1967D2;\n",
              "      height: 32px;\n",
              "      padding: 0 0 0 0;\n",
              "      width: 32px;\n",
              "    }\n",
              "\n",
              "    .colab-df-convert:hover {\n",
              "      background-color: #E2EBFA;\n",
              "      box-shadow: 0px 1px 2px rgba(60, 64, 67, 0.3), 0px 1px 3px 1px rgba(60, 64, 67, 0.15);\n",
              "      fill: #174EA6;\n",
              "    }\n",
              "\n",
              "    [theme=dark] .colab-df-convert {\n",
              "      background-color: #3B4455;\n",
              "      fill: #D2E3FC;\n",
              "    }\n",
              "\n",
              "    [theme=dark] .colab-df-convert:hover {\n",
              "      background-color: #434B5C;\n",
              "      box-shadow: 0px 1px 3px 1px rgba(0, 0, 0, 0.15);\n",
              "      filter: drop-shadow(0px 1px 2px rgba(0, 0, 0, 0.3));\n",
              "      fill: #FFFFFF;\n",
              "    }\n",
              "  </style>\n",
              "\n",
              "      <script>\n",
              "        const buttonEl =\n",
              "          document.querySelector('#df-9faf2ccd-31d0-43cd-9cbd-165ae44ae322 button.colab-df-convert');\n",
              "        buttonEl.style.display =\n",
              "          google.colab.kernel.accessAllowed ? 'block' : 'none';\n",
              "\n",
              "        async function convertToInteractive(key) {\n",
              "          const element = document.querySelector('#df-9faf2ccd-31d0-43cd-9cbd-165ae44ae322');\n",
              "          const dataTable =\n",
              "            await google.colab.kernel.invokeFunction('convertToInteractive',\n",
              "                                                     [key], {});\n",
              "          if (!dataTable) return;\n",
              "\n",
              "          const docLinkHtml = 'Like what you see? Visit the ' +\n",
              "            '<a target=\"_blank\" href=https://colab.research.google.com/notebooks/data_table.ipynb>data table notebook</a>'\n",
              "            + ' to learn more about interactive tables.';\n",
              "          element.innerHTML = '';\n",
              "          dataTable['output_type'] = 'display_data';\n",
              "          await google.colab.output.renderOutput(dataTable, element);\n",
              "          const docLink = document.createElement('div');\n",
              "          docLink.innerHTML = docLinkHtml;\n",
              "          element.appendChild(docLink);\n",
              "        }\n",
              "      </script>\n",
              "    </div>\n",
              "  </div>\n",
              "  "
            ]
          },
          "metadata": {},
          "execution_count": 55
        }
      ],
      "source": [
        "xtest"
      ]
    },
    {
      "cell_type": "code",
      "execution_count": null,
      "metadata": {
        "colab": {
          "base_uri": "https://localhost:8080/",
          "height": 423
        },
        "id": "iX26ZCgeQUBT",
        "outputId": "4130aeb1-8fea-415b-e203-4648630fec09"
      },
      "outputs": [
        {
          "output_type": "execute_result",
          "data": {
            "text/plain": [
              "       Actual   Predicted\n",
              "66230   61.95   60.108126\n",
              "18061  169.75  159.567890\n",
              "12878   39.70  100.556160\n",
              "61502   61.95   60.108126\n",
              "34496   61.95   60.108126\n",
              "...       ...         ...\n",
              "77856   16.83   13.819449\n",
              "32810   13.21   33.682160\n",
              "20497  108.11   77.532340\n",
              "16559   22.32   25.688320\n",
              "15567   18.00   44.778290\n",
              "\n",
              "[24106 rows x 2 columns]"
            ],
            "text/html": [
              "\n",
              "  <div id=\"df-3c0dc265-66bd-4843-b5ec-b96f4920a975\">\n",
              "    <div class=\"colab-df-container\">\n",
              "      <div>\n",
              "<style scoped>\n",
              "    .dataframe tbody tr th:only-of-type {\n",
              "        vertical-align: middle;\n",
              "    }\n",
              "\n",
              "    .dataframe tbody tr th {\n",
              "        vertical-align: top;\n",
              "    }\n",
              "\n",
              "    .dataframe thead th {\n",
              "        text-align: right;\n",
              "    }\n",
              "</style>\n",
              "<table border=\"1\" class=\"dataframe\">\n",
              "  <thead>\n",
              "    <tr style=\"text-align: right;\">\n",
              "      <th></th>\n",
              "      <th>Actual</th>\n",
              "      <th>Predicted</th>\n",
              "    </tr>\n",
              "  </thead>\n",
              "  <tbody>\n",
              "    <tr>\n",
              "      <th>66230</th>\n",
              "      <td>61.95</td>\n",
              "      <td>60.108126</td>\n",
              "    </tr>\n",
              "    <tr>\n",
              "      <th>18061</th>\n",
              "      <td>169.75</td>\n",
              "      <td>159.567890</td>\n",
              "    </tr>\n",
              "    <tr>\n",
              "      <th>12878</th>\n",
              "      <td>39.70</td>\n",
              "      <td>100.556160</td>\n",
              "    </tr>\n",
              "    <tr>\n",
              "      <th>61502</th>\n",
              "      <td>61.95</td>\n",
              "      <td>60.108126</td>\n",
              "    </tr>\n",
              "    <tr>\n",
              "      <th>34496</th>\n",
              "      <td>61.95</td>\n",
              "      <td>60.108126</td>\n",
              "    </tr>\n",
              "    <tr>\n",
              "      <th>...</th>\n",
              "      <td>...</td>\n",
              "      <td>...</td>\n",
              "    </tr>\n",
              "    <tr>\n",
              "      <th>77856</th>\n",
              "      <td>16.83</td>\n",
              "      <td>13.819449</td>\n",
              "    </tr>\n",
              "    <tr>\n",
              "      <th>32810</th>\n",
              "      <td>13.21</td>\n",
              "      <td>33.682160</td>\n",
              "    </tr>\n",
              "    <tr>\n",
              "      <th>20497</th>\n",
              "      <td>108.11</td>\n",
              "      <td>77.532340</td>\n",
              "    </tr>\n",
              "    <tr>\n",
              "      <th>16559</th>\n",
              "      <td>22.32</td>\n",
              "      <td>25.688320</td>\n",
              "    </tr>\n",
              "    <tr>\n",
              "      <th>15567</th>\n",
              "      <td>18.00</td>\n",
              "      <td>44.778290</td>\n",
              "    </tr>\n",
              "  </tbody>\n",
              "</table>\n",
              "<p>24106 rows × 2 columns</p>\n",
              "</div>\n",
              "      <button class=\"colab-df-convert\" onclick=\"convertToInteractive('df-3c0dc265-66bd-4843-b5ec-b96f4920a975')\"\n",
              "              title=\"Convert this dataframe to an interactive table.\"\n",
              "              style=\"display:none;\">\n",
              "        \n",
              "  <svg xmlns=\"http://www.w3.org/2000/svg\" height=\"24px\"viewBox=\"0 0 24 24\"\n",
              "       width=\"24px\">\n",
              "    <path d=\"M0 0h24v24H0V0z\" fill=\"none\"/>\n",
              "    <path d=\"M18.56 5.44l.94 2.06.94-2.06 2.06-.94-2.06-.94-.94-2.06-.94 2.06-2.06.94zm-11 1L8.5 8.5l.94-2.06 2.06-.94-2.06-.94L8.5 2.5l-.94 2.06-2.06.94zm10 10l.94 2.06.94-2.06 2.06-.94-2.06-.94-.94-2.06-.94 2.06-2.06.94z\"/><path d=\"M17.41 7.96l-1.37-1.37c-.4-.4-.92-.59-1.43-.59-.52 0-1.04.2-1.43.59L10.3 9.45l-7.72 7.72c-.78.78-.78 2.05 0 2.83L4 21.41c.39.39.9.59 1.41.59.51 0 1.02-.2 1.41-.59l7.78-7.78 2.81-2.81c.8-.78.8-2.07 0-2.86zM5.41 20L4 18.59l7.72-7.72 1.47 1.35L5.41 20z\"/>\n",
              "  </svg>\n",
              "      </button>\n",
              "      \n",
              "  <style>\n",
              "    .colab-df-container {\n",
              "      display:flex;\n",
              "      flex-wrap:wrap;\n",
              "      gap: 12px;\n",
              "    }\n",
              "\n",
              "    .colab-df-convert {\n",
              "      background-color: #E8F0FE;\n",
              "      border: none;\n",
              "      border-radius: 50%;\n",
              "      cursor: pointer;\n",
              "      display: none;\n",
              "      fill: #1967D2;\n",
              "      height: 32px;\n",
              "      padding: 0 0 0 0;\n",
              "      width: 32px;\n",
              "    }\n",
              "\n",
              "    .colab-df-convert:hover {\n",
              "      background-color: #E2EBFA;\n",
              "      box-shadow: 0px 1px 2px rgba(60, 64, 67, 0.3), 0px 1px 3px 1px rgba(60, 64, 67, 0.15);\n",
              "      fill: #174EA6;\n",
              "    }\n",
              "\n",
              "    [theme=dark] .colab-df-convert {\n",
              "      background-color: #3B4455;\n",
              "      fill: #D2E3FC;\n",
              "    }\n",
              "\n",
              "    [theme=dark] .colab-df-convert:hover {\n",
              "      background-color: #434B5C;\n",
              "      box-shadow: 0px 1px 3px 1px rgba(0, 0, 0, 0.15);\n",
              "      filter: drop-shadow(0px 1px 2px rgba(0, 0, 0, 0.3));\n",
              "      fill: #FFFFFF;\n",
              "    }\n",
              "  </style>\n",
              "\n",
              "      <script>\n",
              "        const buttonEl =\n",
              "          document.querySelector('#df-3c0dc265-66bd-4843-b5ec-b96f4920a975 button.colab-df-convert');\n",
              "        buttonEl.style.display =\n",
              "          google.colab.kernel.accessAllowed ? 'block' : 'none';\n",
              "\n",
              "        async function convertToInteractive(key) {\n",
              "          const element = document.querySelector('#df-3c0dc265-66bd-4843-b5ec-b96f4920a975');\n",
              "          const dataTable =\n",
              "            await google.colab.kernel.invokeFunction('convertToInteractive',\n",
              "                                                     [key], {});\n",
              "          if (!dataTable) return;\n",
              "\n",
              "          const docLinkHtml = 'Like what you see? Visit the ' +\n",
              "            '<a target=\"_blank\" href=https://colab.research.google.com/notebooks/data_table.ipynb>data table notebook</a>'\n",
              "            + ' to learn more about interactive tables.';\n",
              "          element.innerHTML = '';\n",
              "          dataTable['output_type'] = 'display_data';\n",
              "          await google.colab.output.renderOutput(dataTable, element);\n",
              "          const docLink = document.createElement('div');\n",
              "          docLink.innerHTML = docLinkHtml;\n",
              "          element.appendChild(docLink);\n",
              "        }\n",
              "      </script>\n",
              "    </div>\n",
              "  </div>\n",
              "  "
            ]
          },
          "metadata": {},
          "execution_count": 56
        }
      ],
      "source": [
        "df=pd.DataFrame({'Actual':ytest, 'Predicted':ypred})\n",
        "df"
      ]
    },
    {
      "cell_type": "code",
      "execution_count": null,
      "metadata": {
        "id": "hIQYKkUZ2Dy1"
      },
      "outputs": [],
      "source": [
        "import matplotlib.pyplot as plt\n",
        "import numpy as np\n"
      ]
    },
    {
      "cell_type": "code",
      "execution_count": null,
      "metadata": {
        "id": "zD75Y3uY4nqY"
      },
      "outputs": [],
      "source": [
        "def plotGraph(ytest,ypred,model):\n",
        "    \n",
        "    if max(ytest) >= max(ypred):\n",
        "        myrange = int(max(ytest))\n",
        "    else:\n",
        "        myrange = int(max(ypred))\n",
        "    "
      ]
    },
    {
      "cell_type": "code",
      "execution_count": null,
      "metadata": {
        "colab": {
          "base_uri": "https://localhost:8080/",
          "height": 568
        },
        "id": "TnU54yNp5Mh_",
        "outputId": "6bc2b21d-3488-4a08-b60b-961edbdd9c44"
      },
      "outputs": [
        {
          "output_type": "display_data",
          "data": {
            "text/plain": [
              "<Figure size 432x288 with 1 Axes>"
            ],
            "image/png": "[encoded data removed]"
          },
          "metadata": {
            "needs_background": "light"
          }
        },
        {
          "output_type": "display_data",
          "data": {
            "text/plain": [
              "<Figure size 432x288 with 1 Axes>"
            ],
            "image/png": "[encoded data removed]"
          },
          "metadata": {
            "needs_background": "light"
          }
        }
      ],
      "source": [
        "plt.scatter(range(len(ytest)), ytest, color='blue')\n",
        "plt.scatter(range(len(ypred)), ypred, color='red')\n",
        "plt.title(model)\n",
        "plt.show()\n",
        "\n",
        "ytest = range(10)\n",
        "ypred = np.random.randint(0, 10, 10)\n",
        "font1 = {'family':'serif','color':'blue','size':20}\n",
        "font2 = {'family':'serif','color':'darkred','size':15}\n",
        "\n",
        "plt.title(\"Air Pollution\", fontdict = font1)\n",
        "plt.xlabel(\"Actual Value\", fontdict = font2)\n",
        "plt.ylabel(\"Predicted Value\", fontdict = font2)\n",
        "plt.plot(ytest,ypred)\n",
        "plotGraph(ytest, ypred, \"Air Pollution\")"
      ]
    },
    {
      "cell_type": "code",
      "execution_count": null,
      "metadata": {
        "colab": {
          "base_uri": "https://localhost:8080/",
          "height": 322
        },
        "id": "FhfTB3sj5VKy",
        "outputId": "c03d79a6-4fbc-4400-9371-04bcffa1507d"
      },
      "outputs": [
        {
          "output_type": "execute_result",
          "data": {
            "text/plain": [
              "[<matplotlib.lines.Line2D at 0x7f5588ff48e0>]"
            ]
          },
          "metadata": {},
          "execution_count": 60
        },
        {
          "output_type": "display_data",
          "data": {
            "text/plain": [
              "<Figure size 432x288 with 1 Axes>"
            ],
            "image/png": "[encoded data removed]"
          },
          "metadata": {
            "needs_background": "light"
          }
        }
      ],
      "source": [
        "font1 = {'family':'serif','color':'blue','size':20}\n",
        "font2 = {'family':'serif','color':'darkred','size':15}\n",
        "\n",
        "plt.title(\"Air Pollution\", fontdict = font1)\n",
        "plt.xlabel(\"Actual Value\", fontdict = font2)\n",
        "plt.ylabel(\"Predicted Value\", fontdict = font2)\n",
        "plt.plot(ytest,ypred)"
      ]
    },
    {
      "cell_type": "code",
      "execution_count": null,
      "metadata": {
        "colab": {
          "base_uri": "https://localhost:8080/"
        },
        "id": "ObXltRRJO1Q6",
        "outputId": "584dc0ec-6206-4829-82e5-849707249dbd"
      },
      "outputs": [
        {
          "output_type": "stream",
          "name": "stdout",
          "text": [
            "Mean Absolute Error: 2.8\n",
            "Mean Squared Error: 14.2\n",
            "Root Mean Squared Error: 3.7682887362833544\n"
          ]
        }
      ],
      "source": [
        "from sklearn import metrics\n",
        "print('Mean Absolute Error:', metrics.mean_absolute_error(ytest, ypred))\n",
        "print('Mean Squared Error:', metrics.mean_squared_error(ytest, ypred))\n",
        "print('Root Mean Squared Error:', np.sqrt(metrics.mean_squared_error(ytest, ypred)))"
      ]
    },
    {
      "cell_type": "code",
      "execution_count": null,
      "metadata": {
        "id": "ZH3Pzl38QHVo"
      },
      "outputs": [],
      "source": [
        "# Get features list\n",
        "characteristics = x.columns"
      ]
    },
    {
      "cell_type": "code",
      "execution_count": null,
      "metadata": {
        "id": "jZevlKS3Q32K",
        "colab": {
          "base_uri": "https://localhost:8080/"
        },
        "outputId": "af8723aa-b49e-4c39-a781-9b3a540f3dda"
      },
      "outputs": [
        {
          "output_type": "stream",
          "name": "stdout",
          "text": [
            "Variable: PM10                 Importance: 0.78\n",
            "Variable: CO                   Importance: 0.07\n",
            "Variable: SO2                  Importance: 0.05\n",
            "Variable: NO                   Importance: 0.05\n",
            "Variable: NO2                  Importance: 0.05\n"
          ]
        }
      ],
      "source": [
        "# Get the variables importances, sort them, and print the result\n",
        "importances = list(model.feature_importances_)\n",
        "characteristics_importances = [(characteristic, round(importance, 2)) for characteristic, importance in zip(characteristics, importances)]\n",
        "characteristics_importances = sorted(characteristics_importances, key = lambda x: x[1], reverse = True)\n",
        "[print('Variable: {:20} Importance: {}'.format(*pair)) for pair in characteristics_importances];"
      ]
    },
    {
      "cell_type": "code",
      "source": [
        "# Visualize the variables importances\n",
        "plt.bar(characteristics, importances, orientation = 'vertical')\n",
        "plt.xticks(rotation = 'vertical')\n",
        "plt.ylabel('PM 2.5')\n",
        "plt.xlabel('Air Pollutant')\n",
        "plt.grid(axis = 'y', color = '#D3D3D3', linestyle = 'solid')\n",
        "plt.show()"
      ],
      "metadata": {
        "colab": {
          "base_uri": "https://localhost:8080/",
          "height": 297
        },
        "id": "YunrF1QMQbS5",
        "outputId": "f9cfc5a6-b372-452c-b013-8db24eed9daf"
      },
      "execution_count": null,
      "outputs": [
        {
          "output_type": "display_data",
          "data": {
            "text/plain": [
              "<Figure size 432x288 with 1 Axes>"
            ],
            "image/png": "[encoded data removed]"
          },
          "metadata": {
            "needs_background": "light"
          }
        }
      ]
    },
    {
      "cell_type": "markdown",
      "source": [
        "From the figure above you can see that only four features have a great influence on the prediction results. Therefore, we can use only these ones to perform the calculations."
      ],
      "metadata": {
        "id": "WJfx8MNGRREg"
      }
    },
    {
      "cell_type": "markdown",
      "source": [
        "To sum up, we can say that the Random Forest algorithm has some advantages in comparison with Lasso, Ridge or OLS regressions. It doesn't require data scaling and has higher prediction accuracy. Random Forest algorithm is also less prone to overfitting and easier for hyperparameters tuning. Linear regression methods could be better only if you are assured that your function is linear."
      ],
      "metadata": {
        "id": "XvwfBNp2RG66"
      }
    },
    {
      "cell_type": "code",
      "source": [],
      "metadata": {
        "id": "59L6l-0PQ3_a"
      },
      "execution_count": null,
      "outputs": []
    }
  ],
  "metadata": {
    "colab": {
      "provenance": [],
      "mount_file_id": "1O5U4JQXOXF9sZmPKd62zsAkzpOvz-Zkh",
      "authorship_tag": "ABX9TyMNmdTDvdtgGxESNcO10jZ4",
      "include_colab_link": true
    },
    "kernelspec": {
      "display_name": "Python 3",
      "name": "python3"
    },
    "language_info": {
      "name": "python"
    }
  },
  "nbformat": 4,
  "nbformat_minor": 0
}